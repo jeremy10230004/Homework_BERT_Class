{
  "nbformat": 4,
  "nbformat_minor": 0,
  "metadata": {
    "colab": {
      "name": "TurthdayJeiba.ipynb",
      "provenance": [],
      "authorship_tag": "ABX9TyPbqYtxfEmI8c+0ZzlBJSBK",
      "include_colab_link": true
    },
    "kernelspec": {
      "name": "python3",
      "display_name": "Python 3"
    },
    "language_info": {
      "name": "python"
    }
  },
  "cells": [
    {
      "cell_type": "markdown",
      "metadata": {
        "id": "view-in-github",
        "colab_type": "text"
      },
      "source": [
        "<a href=\"https://colab.research.google.com/github/jeremy10230004/ThurthdayAiClass/blob/main/TurthdayJeiba.ipynb\" target=\"_parent\"><img src=\"https://colab.research.google.com/assets/colab-badge.svg\" alt=\"Open In Colab\"/></a>"
      ]
    },
    {
      "cell_type": "code",
      "metadata": {
        "id": "qiqGCvMxhCXe",
        "colab": {
          "base_uri": "https://localhost:8080/"
        },
        "outputId": "6b60cc80-a40d-45b0-d1a8-a970d598eeaf"
      },
      "source": [
        "import jieba\n",
        "text = \"我來到台灣新北市的淡江大學\"\n",
        "\n",
        "print(\"預設:\", \"|\".join(jieba.cut(text, cut_all=False, HMM=True)))\n",
        "print(\"全關閉:\", \"|\".join(jieba.cut(text, cut_all=False, HMM=False)))\n",
        "print(\"全關閉:\", \"|\".join(jieba.cut(text, cut_all=True, HMM=True)))"
      ],
      "execution_count": 1,
      "outputs": [
        {
          "output_type": "stream",
          "name": "stderr",
          "text": [
            "Building prefix dict from the default dictionary ...\n",
            "Dumping model to file cache /tmp/jieba.cache\n",
            "Loading model cost 1.345 seconds.\n",
            "Prefix dict has been built successfully.\n"
          ]
        },
        {
          "output_type": "stream",
          "name": "stdout",
          "text": [
            "預設: 我來|到|台灣|新北市|的|淡江|大學\n",
            "全關閉: 我|來|到|台|灣|新|北|市|的|淡江|大|學\n",
            "全關閉: 我|來|到|台|灣|新|北市|的|淡江|大|學\n"
          ]
        }
      ]
    },
    {
      "cell_type": "code",
      "metadata": {
        "colab": {
          "base_uri": "https://localhost:8080/"
        },
        "id": "RFPvzp5EVxMi",
        "outputId": "0ce5f61f-73ce-4855-8633-5b578bca5658"
      },
      "source": [
        "text = '總統蔡英文論文風波延燒後，最新民調今日出爐！據親藍民調公布結果，蔡英文支持度45％，遙遙領先韓國瑜的33％，兩人差距擴大到12個百分點。顯示論文風波，並未重創小英聲望。'\n",
        "\n",
        "print(\"預設:\", \"|\".join(jieba.cut(text, cut_all=False, HMM=True)))"
      ],
      "execution_count": 19,
      "outputs": [
        {
          "output_type": "stream",
          "name": "stdout",
          "text": [
            "預設: 總統|蔡英文|論文|風波|延燒|後|，|最新|民調|今日|出爐|！|據|親|藍|民調|公布|結果|，|蔡英文|支持|度|45|％|，|遙遙|領先|韓國瑜|的|33|％|，|兩人|差距|擴大到|12|個|百分|點|。|顯示|論文|風波|，|並未|重創|小英|聲望|。\n"
          ]
        }
      ]
    },
    {
      "cell_type": "code",
      "metadata": {
        "colab": {
          "base_uri": "https://localhost:8080/"
        },
        "id": "O2RDgQMkX4Xl",
        "outputId": "54b019ab-5a94-46e7-a675-871ed9e28bea"
      },
      "source": [
        "add_list_= [{\"word\":\"蔡英文\",\"tag\":\"nr\"},{\"word\":\"論文\",\"tag\":\"n\"},{\"word\":\"並未\",\"tag\":\"d\"},{\"word\":\"重創\",\"tag\":\"v\"},{\"word\":\"小英\",\"tag\":\"nr\"},{\"word\":\"支持度\",\"tag\":\"n\"}]\n",
        "for i in add_list_:\n",
        "  jieba.add_word(i[\"word\"], tag=i[\"tag\"])\n",
        "\n",
        "\n",
        "print(\"預設:\", \"|\".join(jieba.cut(text, cut_all=False, HMM=True)))"
      ],
      "execution_count": 21,
      "outputs": [
        {
          "output_type": "stream",
          "name": "stdout",
          "text": [
            "預設: 總統|蔡英文|論文|風波|延燒|後|，|最新|民調|今日|出爐|！|據|親|藍|民調|公布|結果|，|蔡英文|支持度|45|％|，|遙遙|領先|韓國瑜|的|33|％|，|兩人|差距|擴大到|12|個|百分|點|。|顯示|論文|風波|，|並未|重創|小英|聲望|。\n"
          ]
        }
      ]
    },
    {
      "cell_type": "code",
      "metadata": {
        "colab": {
          "base_uri": "https://localhost:8080/"
        },
        "id": "xjBTTLNPYrTq",
        "outputId": "27ed80e9-34e5-474b-87da-c2c51b3068cb"
      },
      "source": [
        "import jieba.posseg as pseg\n",
        "\n",
        "words = pseg.cut(text)\n",
        "for word, flag in words:\n",
        "  print(word, flag)"
      ],
      "execution_count": 22,
      "outputs": [
        {
          "output_type": "stream",
          "name": "stdout",
          "text": [
            "總統 n\n",
            "蔡英文 nr\n",
            "論文 n\n",
            "風波 n\n",
            "延燒 v\n",
            "後 nr\n",
            "， x\n",
            "最新 d\n",
            "民調 x\n",
            "今日 t\n",
            "出爐 v\n",
            "！ x\n",
            "據 p\n",
            "親藍 b\n",
            "民調 x\n",
            "公布 v\n",
            "結果 n\n",
            "， x\n",
            "蔡英文 nr\n",
            "支持度 n\n",
            "45 m\n",
            "％ x\n",
            "， x\n",
            "遙遙領先 l\n",
            "韓國瑜 nr\n",
            "的 uj\n",
            "33 m\n",
            "％ x\n",
            "， x\n",
            "兩 m\n",
            "人 n\n",
            "差距 n\n",
            "擴大 v\n",
            "到 v\n",
            "12 m\n",
            "個 m\n",
            "百分 m\n",
            "點 zg\n",
            "。 x\n",
            "顯示 v\n",
            "論文 n\n",
            "風波 n\n",
            "， x\n",
            "並未 d\n",
            "重創 v\n",
            "小英 nr\n",
            "聲望 n\n",
            "。 x\n"
          ]
        }
      ]
    }
  ]
}